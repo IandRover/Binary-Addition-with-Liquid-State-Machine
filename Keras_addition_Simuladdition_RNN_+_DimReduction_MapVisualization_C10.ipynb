{
  "nbformat": 4,
  "nbformat_minor": 0,
  "metadata": {
    "colab": {
      "name": "Keras addition - Simuladdition RNN + DimReduction- MapVisualization C10 ",
      "provenance": [],
      "collapsed_sections": [
        "-fog_q4xO5uT"
      ],
      "toc_visible": true,
      "authorship_tag": "ABX9TyPlylNPg5Cmzzgrh4Os0y8h",
      "include_colab_link": true
    },
    "kernelspec": {
      "name": "python3",
      "display_name": "Python 3"
    }
  },
  "cells": [
    {
      "cell_type": "markdown",
      "metadata": {
        "id": "view-in-github",
        "colab_type": "text"
      },
      "source": [
        "<a href=\"https://colab.research.google.com/github/IandRover/Binary-Addition-with-Liquid-State-Machine/blob/master/Keras_addition_Simuladdition_RNN_%2B_DimReduction_MapVisualization_C10.ipynb\" target=\"_parent\"><img src=\"https://colab.research.google.com/assets/colab-badge.svg\" alt=\"Open In Colab\"/></a>"
      ]
    },
    {
      "cell_type": "markdown",
      "metadata": {
        "id": "zjtGpmyYP5hP",
        "colab_type": "text"
      },
      "source": [
        "## Reference"
      ]
    },
    {
      "cell_type": "code",
      "metadata": {
        "id": "Itq-d6LEtDxC",
        "colab_type": "code",
        "colab": {
          "base_uri": "https://localhost:8080/",
          "height": 35
        },
        "outputId": "f0a9709d-b96e-43a2-ac32-eb7f6e14a83c"
      },
      "source": [
        "\"\"\"Reference: https://keras.io/examples/addition_rnn/\"\"\""
      ],
      "execution_count": null,
      "outputs": [
        {
          "output_type": "execute_result",
          "data": {
            "application/vnd.google.colaboratory.intrinsic": {
              "type": "string"
            },
            "text/plain": [
              "'Reference: https://keras.io/examples/addition_rnn/'"
            ]
          },
          "metadata": {
            "tags": []
          },
          "execution_count": 1
        }
      ]
    },
    {
      "cell_type": "markdown",
      "metadata": {
        "id": "33Oi9iAltJUE",
        "colab_type": "text"
      },
      "source": [
        "## Import basic packages"
      ]
    },
    {
      "cell_type": "code",
      "metadata": {
        "id": "0mHfxJx5ruNY",
        "colab_type": "code",
        "colab": {
          "base_uri": "https://localhost:8080/",
          "height": 68
        },
        "outputId": "d0c73eb0-d650-4dc8-abf2-c81c9ddb3161"
      },
      "source": [
        "from __future__ import print_function\n",
        "from keras.callbacks import Callback, TensorBoard\n",
        "from keras.models import Sequential\n",
        "from keras import layers\n",
        "%load_ext tensorboard\n",
        "\n",
        "from google.colab import files\n",
        "\n",
        "import numpy as np\n",
        "import datetime\n",
        "import os\n",
        "import matplotlib.pyplot as plt\n",
        "import seaborn as sns;"
      ],
      "execution_count": null,
      "outputs": [
        {
          "output_type": "stream",
          "text": [
            "Using TensorFlow backend.\n",
            "/usr/local/lib/python3.6/dist-packages/statsmodels/tools/_testing.py:19: FutureWarning: pandas.util.testing is deprecated. Use the functions in the public API at pandas.testing instead.\n",
            "  import pandas.util.testing as tm\n"
          ],
          "name": "stderr"
        }
      ]
    },
    {
      "cell_type": "markdown",
      "metadata": {
        "id": "LXdNh4hitRaQ",
        "colab_type": "text"
      },
      "source": [
        "## Dataset Preparation"
      ]
    },
    {
      "cell_type": "code",
      "metadata": {
        "id": "J7QZ_8cNrdzX",
        "colab_type": "code",
        "colab": {}
      },
      "source": [
        "#@title Define encode-decoder\n",
        "class CharacterTable(object):\n",
        "    \"\"\"Given a set of characters:\n",
        "    + Encode them to a one-hot integer representation\n",
        "    + Decode the one-hot or integer representation to their character output\n",
        "    + Decode a vector of probabilities to their character output\n",
        "    \"\"\"\n",
        "    def __init__(self, chars):\n",
        "        \"\"\"Initialize character table.\n",
        "        # Arguments\n",
        "            chars: Characters that can appear in the input.\n",
        "        \"\"\"\n",
        "        self.chars = sorted(set(chars))\n",
        "        self.char_indices = dict((c, i) for i, c in enumerate(self.chars))\n",
        "        self.indices_char = dict((i, c) for i, c in enumerate(self.chars))\n",
        "\n",
        "    def encode(self, C, num_rows):\n",
        "        \"\"\"One-hot encode given string C.\n",
        "        # Arguments\n",
        "            C: string, to be encoded.\n",
        "            num_rows: Number of rows in the returned one-hot encoding. This is\n",
        "                used to keep the # of rows for each data the same.\n",
        "        \"\"\"\n",
        "        x = np.zeros((num_rows, len(self.chars)))\n",
        "        for i, c in enumerate(C):\n",
        "            x[i, self.char_indices[c]] = 1\n",
        "        return x\n",
        "\n",
        "    def encode_simul(self, C, num_rows):\n",
        "        \"\"\"Simultaneous one-hot encodes the augend given C = [str1, str2].\n",
        "        # Arguments\n",
        "            C: list, contains 2 strings, to be encoded.\n",
        "            num_rows: Number of rows in the returned one-hot encoding. This is\n",
        "                used to keep the # of rows for each data the same.\n",
        "        \"\"\"\n",
        "        # first 11 places for augend, including \" \"\n",
        "        # last 11 places for addend, including \" \"\n",
        "        x = np.zeros((num_rows, len(self.chars*2)))\n",
        "        [a,b] = C\n",
        "        for i in range(DIGITS):\n",
        "            x[i, self.char_indices[a[i]]] = 1\n",
        "            x[i, self.char_indices[b[i]]+len(self.chars)] = 1\n",
        "        return x\n",
        "\n",
        "    def decode(self, x, calc_argmax=True):\n",
        "        \"\"\"Decode the given vector or 2D array to their character output.\n",
        "        # Arguments\n",
        "            x: A vector or a 2D array of probabilities or one-hot representations;\n",
        "                or a vector of character indices (used with `calc_argmax=False`).\n",
        "            calc_argmax: Whether to find the character index with maximum\n",
        "                probability, defaults to `True`.\n",
        "        \"\"\"\n",
        "        if calc_argmax:\n",
        "            x = x.argmax(axis=-1)\n",
        "        return ''.join(self.indices_char[x] for x in x)"
      ],
      "execution_count": null,
      "outputs": []
    },
    {
      "cell_type": "code",
      "metadata": {
        "id": "OPKRuDWFriJH",
        "colab_type": "code",
        "colab": {}
      },
      "source": [
        "class colors:\n",
        "    ok = '\\033[92m'\n",
        "    fail = '\\033[91m'\n",
        "    close = '\\033[0m'"
      ],
      "execution_count": null,
      "outputs": []
    },
    {
      "cell_type": "code",
      "metadata": {
        "id": "8-u86URtrnJy",
        "colab_type": "code",
        "colab": {}
      },
      "source": [
        "#@title Parameters for the model and dataset.\n",
        "TRAINING_SIZE = 50000\n",
        "DIGITS = 3\n",
        "REVERSE = True\n",
        "\n",
        "# Maximum length of input is 'int + int' (e.g., '345+678'). Maximum length of\n",
        "# int is DIGITS.\n",
        "MAXLEN = DIGITS + 1 + DIGITS\n",
        "\n",
        "# All the numbers, plus sign and space for padding.\n",
        "chars = ' 0123456789'\n",
        "ctable = CharacterTable(chars)"
      ],
      "execution_count": null,
      "outputs": []
    },
    {
      "cell_type": "code",
      "metadata": {
        "id": "M6dVpvf2rj26",
        "colab_type": "code",
        "colab": {
          "base_uri": "https://localhost:8080/",
          "height": 68
        },
        "outputId": "d18bd7a5-2533-4202-86a8-f955ae971cd2"
      },
      "source": [
        "#@title Produce raw data\n",
        "questions = []\n",
        "questions_ = []\n",
        "expected = []\n",
        "seen = set()\n",
        "print('Generating data...')\n",
        "while len(questions) < TRAINING_SIZE:\n",
        "    f = lambda: int(''.join(np.random.choice(list('0123456789'))\n",
        "                    for i in range(np.random.randint(1, DIGITS + 1))))\n",
        "    a, b = f(), f()\n",
        "    # Skip any addition questions we've already seen\n",
        "    # Also skip any such that x+Y == Y+x (hence the sorting).\n",
        "    key = tuple(sorted((a, b)))\n",
        "    if key in seen:\n",
        "        continue\n",
        "    seen.add(key)\n",
        "    # Pad the data with spaces such that it is always MAXLEN.\n",
        "    q = '{}+{}'.format(a, b)\n",
        "    query = q + ' ' * (MAXLEN - len(q))\n",
        "    ans = str(a + b)\n",
        "    # Answers can be of maximum size DIGITS + 1.\n",
        "    ans = ans[::-1] + ' ' * (DIGITS + 1 - len(ans))\n",
        "    if REVERSE:\n",
        "        # Reverse the query, e.g., '12+345  ' becomes '  543+21'. (Note the\n",
        "        # space used for padding.)\n",
        "        query = query[::-1]\n",
        "    questions.append(query)\n",
        "    augend = \" \" * (DIGITS-len(str(a))) + str(a)\n",
        "    addend = \" \" * (DIGITS-len(str(b))) + str(b)\n",
        "    questions_.append([augend[::-1], addend[::-1]])\n",
        "    expected.append(ans)\n",
        "print('Total addition questions:', len(questions))\n",
        "print(questions_[0], expected[0], questions_[1], expected[1])"
      ],
      "execution_count": null,
      "outputs": [
        {
          "output_type": "stream",
          "text": [
            "Generating data...\n",
            "Total addition questions: 50000\n",
            "['247', '0  '] 247  ['45 ', '8  '] 26  \n"
          ],
          "name": "stdout"
        }
      ]
    },
    {
      "cell_type": "code",
      "metadata": {
        "id": "k55YUiVRuRYA",
        "colab_type": "code",
        "colab": {
          "base_uri": "https://localhost:8080/",
          "height": 119
        },
        "outputId": "a62aa79e-160f-4343-fac9-450aab100380"
      },
      "source": [
        "#@title Vectorization\n",
        "x = np.zeros((len(questions), DIGITS + 1, len(chars*2)), dtype=np.bool)\n",
        "#y = np.zeros((len(questions), MAXLEN, len(chars)), dtype=np.bool)\n",
        "y = np.zeros((len(questions), DIGITS + 1, len(chars)), dtype=np.bool)\n",
        "for i, sentence in enumerate(questions_):\n",
        "    x[i] = ctable.encode_simul(sentence, DIGITS + 1)\n",
        "for i, sentence in enumerate(expected):\n",
        "    y[i] = ctable.encode(sentence, DIGITS + 1)\n",
        "\n",
        "# Shuffle (x, y) in unison as the later parts of x will almost all be larger\n",
        "# digits.\n",
        "indices = np.arange(len(y))\n",
        "np.random.shuffle(indices)\n",
        "x = x[indices]\n",
        "y = y[indices]\n",
        "\n",
        "# Explicitly set apart 10% for validation data that we never train over.\n",
        "split_at = len(x) - len(x) // 10\n",
        "(x_train, x_val) = x[:split_at], x[split_at:]\n",
        "(y_train, y_val) = y[:split_at], y[split_at:]\n",
        "\n",
        "print('Training Data:')\n",
        "print(x_train.shape)\n",
        "print(y_train.shape)\n",
        "\n",
        "print('Validation Data:')\n",
        "print(x_val.shape)\n",
        "print(y_val.shape)\n",
        "\n",
        "# Try replacing GRU, or SimpleRNN.\n",
        "RNN = layers.LSTM\n",
        "SimpleRNN = layers.SimpleRNN\n",
        "HIDDEN_SIZE = 15\n",
        "    ## H100 converges at epoch 12, \n",
        "    ## H50 converges at epoch 20\n",
        "    ## H30 converges at epoch 36\n",
        "    ## H20 converges at 44\n",
        "    ## H15 converges at 87\n",
        "    ## H12 converges at 132\n",
        "    ## H12 converges at 132\n",
        "    ## H12 converges at 350\n",
        "    ## H11 plateau at 150, ACC 0.9989\n",
        "    ## H10 plateau at 188, ACC 0.9941\n",
        "BATCH_SIZE = 128\n",
        "LAYERS = 1"
      ],
      "execution_count": null,
      "outputs": [
        {
          "output_type": "stream",
          "text": [
            "Training Data:\n",
            "(45000, 4, 22)\n",
            "(45000, 4, 11)\n",
            "Validation Data:\n",
            "(5000, 4, 22)\n",
            "(5000, 4, 11)\n"
          ],
          "name": "stdout"
        }
      ]
    },
    {
      "cell_type": "markdown",
      "metadata": {
        "id": "h9-oDa70PR8E",
        "colab_type": "text"
      },
      "source": [
        "## Build model"
      ]
    },
    {
      "cell_type": "code",
      "metadata": {
        "id": "WCxsml7q9WX2",
        "colab_type": "code",
        "colab": {}
      },
      "source": [
        "def BuildModel():\n",
        "    model = Sequential()\n",
        "    model.add(SimpleRNN(HIDDEN_SIZE, input_shape=(DIGITS + 1, len(chars*2)), return_sequences=True))\n",
        "    model.add(layers.TimeDistributed(layers.Dense(len(chars), activation='softmax')))\n",
        "    model.compile(loss='categorical_crossentropy', optimizer='adam', metrics=['accuracy'])\n",
        "    return model"
      ],
      "execution_count": null,
      "outputs": []
    },
    {
      "cell_type": "markdown",
      "metadata": {
        "id": "aGmLQ3hP9hQQ",
        "colab_type": "text"
      },
      "source": [
        "## Source"
      ]
    },
    {
      "cell_type": "code",
      "metadata": {
        "id": "kl7c7o0Orre4",
        "colab_type": "code",
        "colab": {}
      },
      "source": [
        "model = Sequential()\n",
        "\"\"\"測試一\"\"\"\n",
        "model.add(SimpleRNN(HIDDEN_SIZE, input_shape=(DIGITS + 1, len(chars*2)), return_sequences=True))\n",
        "\"\"\"原始碼+新的格式\"\"\" \"\"\"經過5個epoch即達到100%\"\"\"\n",
        "#model.add(SimpleRNN(HIDDEN_SIZE, input_shape=(DIGITS + 1, len(chars*2))))\n",
        "#model.add(layers.RepeatVector(DIGITS + 1))\n",
        "#for _ in range(LAYERS):\n",
        "#    model.add(SimpleRNN(HIDDEN_SIZE, return_sequences=True))\n",
        "\"\"\"原始碼\"\"\"\n",
        "#model.add(SimpleRNN(HIDDEN_SIZE, input_shape=(MAXLEN, len(chars))))\n",
        "#model.add(layers.RepeatVector(DIGITS + 1))\n",
        "#for _ in range(LAYERS):\n",
        "#    model.add(SimpleRNN(HIDDEN_SIZE, return_sequences=True))\n",
        "model.add(layers.TimeDistributed(layers.Dense(len(chars), activation='softmax')))\n",
        "model.compile(loss='categorical_crossentropy', optimizer='adam', metrics=['accuracy'])\n",
        "#model.summary()\n",
        "epoch=0"
      ],
      "execution_count": null,
      "outputs": []
    },
    {
      "cell_type": "markdown",
      "metadata": {
        "id": "i8fGovnGPNhf",
        "colab_type": "text"
      },
      "source": [
        "## Training Phase"
      ]
    },
    {
      "cell_type": "code",
      "metadata": {
        "id": "0YkgdBjd2AFp",
        "colab_type": "code",
        "colab": {
          "base_uri": "https://localhost:8080/",
          "height": 34
        },
        "outputId": "47e2e9a5-4ddf-44b3-9730-e1cfb895622c"
      },
      "source": [
        "#@title Fitting data\n",
        "print(\"Setting: \" + colors.fail + \"HIDDEN SIZE={}\".format(HIDDEN_SIZE) + colors.close)\n",
        "logdir = os.path.join(\"logs\", datetime.datetime.now().strftime(\"%Y%m%d-%H%M%S\"))\n",
        "tensorboard_callback = TensorBoard(logdir, histogram_freq=1)\n",
        "\n",
        "history = model.fit(x_train, y_train,\n",
        "                    batch_size=BATCH_SIZE,\n",
        "                    epochs=30,\n",
        "                    validation_data=(x_val, y_val),\n",
        "                    callbacks=[tensorboard_callback],\n",
        "                    verbose=0)"
      ],
      "execution_count": null,
      "outputs": [
        {
          "output_type": "stream",
          "text": [
            "Setting: \u001b[91mHIDDEN SIZE=15\u001b[0m\n"
          ],
          "name": "stdout"
        }
      ]
    },
    {
      "cell_type": "markdown",
      "metadata": {
        "id": "aQ_pewmc7-w6",
        "colab_type": "text"
      },
      "source": [
        "###  Accuracy and Loss"
      ]
    },
    {
      "cell_type": "code",
      "metadata": {
        "id": "JC1s5f7jpP9F",
        "colab_type": "code",
        "colab": {
          "base_uri": "https://localhost:8080/",
          "height": 259
        },
        "outputId": "70e2e68c-f5d4-4db7-8747-342939d1f403"
      },
      "source": [
        "\n",
        "fig, ax = plt.subplots(ncols=2, figsize=(10,3))\n",
        "ax[0].plot(history.history['accuracy'],)\n",
        "ax[0].plot(history.history['val_accuracy'])\n",
        "ax[0].set_title('model accuracy'), plt.ylabel('accuracy'), plt.xlabel('epoch')\n",
        "ax[0].legend(['train', 'test'])\n",
        "ax[1].plot(history.history['loss']), plt.plot(history.history['val_loss'])\n",
        "ax[1].set_title('model loss'), plt.ylabel('loss'), plt.xlabel('epoch')\n",
        "ax[1].legend(['train', 'test'])"
      ],
      "execution_count": null,
      "outputs": [
        {
          "output_type": "execute_result",
          "data": {
            "text/plain": [
              "<matplotlib.legend.Legend at 0x7f4bbbd21438>"
            ]
          },
          "metadata": {
            "tags": []
          },
          "execution_count": 10
        },
        {
          "output_type": "display_data",
          "data": {
            "image/png": "[encoded data removed]",
            "text/plain": [
              "<Figure size 720x216 with 2 Axes>"
            ]
          },
          "metadata": {
            "tags": [],
            "needs_background": "light"
          }
        }
      ]
    },
    {
      "cell_type": "markdown",
      "metadata": {
        "id": "AvJZSbxywmKs",
        "colab_type": "text"
      },
      "source": [
        "### Show examples"
      ]
    },
    {
      "cell_type": "code",
      "metadata": {
        "id": "pphmMJf2-pRl",
        "colab_type": "code",
        "colab": {
          "base_uri": "https://localhost:8080/",
          "height": 233
        },
        "outputId": "8629278a-b0bd-40c7-e4e7-53b95bebde33"
      },
      "source": [
        "for i in range(5):\n",
        "    ind = np.random.randint(0, len(x_val))\n",
        "    rowx, rowy = x_val[np.array([ind])], y_val[np.array([ind])]\n",
        "    preds = model.predict_classes(rowx, verbose=0)\n",
        "\n",
        "    x = np.nonzero(rowx[0])[1]\n",
        "    y = np.nonzero(rowy[0])[1]\n",
        "    p = preds[0]\n",
        "    augend = \"\".join(chars[x[i]] for i in [4,2,0])\n",
        "    addend = \"\".join(chars[x[i]-11] for i in [5,3,1])\n",
        "    target = \"\".join(chars[y[i]] for i in range(4))[::-1]\n",
        "    while p[-1] == 0: p=p[:-1]\n",
        "    output = \"\".join(str(p[i]-1) for i in range(len(p)))[::-1]\n",
        "\n",
        "    print('Q {} + {}'.format(augend, addend), end=' ')\n",
        "    print('T {}'.format(target), end=' ')\n",
        "\n",
        "    while target[0] == \" \": target=target[1:]\n",
        "    while target[-1] == \" \": target=target[:-1]\n",
        "    if target == output:\n",
        "        print(colors.ok + '☑' + colors.close, end=' ')\n",
        "    else:\n",
        "        print(colors.fail + '☒' + colors.close, end=' ')\n",
        "    print(output)"
      ],
      "execution_count": null,
      "outputs": [
        {
          "output_type": "error",
          "ename": "NameError",
          "evalue": "ignored",
          "traceback": [
            "\u001b[0;31m---------------------------------------------------------------------------\u001b[0m",
            "\u001b[0;31mNameError\u001b[0m                                 Traceback (most recent call last)",
            "\u001b[0;32m<ipython-input-10-b09ea17a0f36>\u001b[0m in \u001b[0;36m<module>\u001b[0;34m()\u001b[0m\n\u001b[1;32m      2\u001b[0m     \u001b[0mind\u001b[0m \u001b[0;34m=\u001b[0m \u001b[0mnp\u001b[0m\u001b[0;34m.\u001b[0m\u001b[0mrandom\u001b[0m\u001b[0;34m.\u001b[0m\u001b[0mrandint\u001b[0m\u001b[0;34m(\u001b[0m\u001b[0;36m0\u001b[0m\u001b[0;34m,\u001b[0m \u001b[0mlen\u001b[0m\u001b[0;34m(\u001b[0m\u001b[0mx_val\u001b[0m\u001b[0;34m)\u001b[0m\u001b[0;34m)\u001b[0m\u001b[0;34m\u001b[0m\u001b[0;34m\u001b[0m\u001b[0m\n\u001b[1;32m      3\u001b[0m     \u001b[0mrowx\u001b[0m\u001b[0;34m,\u001b[0m \u001b[0mrowy\u001b[0m \u001b[0;34m=\u001b[0m \u001b[0mx_val\u001b[0m\u001b[0;34m[\u001b[0m\u001b[0mnp\u001b[0m\u001b[0;34m.\u001b[0m\u001b[0marray\u001b[0m\u001b[0;34m(\u001b[0m\u001b[0;34m[\u001b[0m\u001b[0mind\u001b[0m\u001b[0;34m]\u001b[0m\u001b[0;34m)\u001b[0m\u001b[0;34m]\u001b[0m\u001b[0;34m,\u001b[0m \u001b[0my_val\u001b[0m\u001b[0;34m[\u001b[0m\u001b[0mnp\u001b[0m\u001b[0;34m.\u001b[0m\u001b[0marray\u001b[0m\u001b[0;34m(\u001b[0m\u001b[0;34m[\u001b[0m\u001b[0mind\u001b[0m\u001b[0;34m]\u001b[0m\u001b[0;34m)\u001b[0m\u001b[0;34m]\u001b[0m\u001b[0;34m\u001b[0m\u001b[0;34m\u001b[0m\u001b[0m\n\u001b[0;32m----> 4\u001b[0;31m     \u001b[0mpreds\u001b[0m \u001b[0;34m=\u001b[0m \u001b[0mmodel\u001b[0m\u001b[0;34m.\u001b[0m\u001b[0mpredict_classes\u001b[0m\u001b[0;34m(\u001b[0m\u001b[0mrowx\u001b[0m\u001b[0;34m,\u001b[0m \u001b[0mverbose\u001b[0m\u001b[0;34m=\u001b[0m\u001b[0;36m0\u001b[0m\u001b[0;34m)\u001b[0m\u001b[0;34m\u001b[0m\u001b[0;34m\u001b[0m\u001b[0m\n\u001b[0m\u001b[1;32m      5\u001b[0m \u001b[0;34m\u001b[0m\u001b[0m\n\u001b[1;32m      6\u001b[0m     \u001b[0mx\u001b[0m \u001b[0;34m=\u001b[0m \u001b[0mnp\u001b[0m\u001b[0;34m.\u001b[0m\u001b[0mnonzero\u001b[0m\u001b[0;34m(\u001b[0m\u001b[0mrowx\u001b[0m\u001b[0;34m[\u001b[0m\u001b[0;36m0\u001b[0m\u001b[0;34m]\u001b[0m\u001b[0;34m)\u001b[0m\u001b[0;34m[\u001b[0m\u001b[0;36m1\u001b[0m\u001b[0;34m]\u001b[0m\u001b[0;34m\u001b[0m\u001b[0;34m\u001b[0m\u001b[0m\n",
            "\u001b[0;31mNameError\u001b[0m: name 'model' is not defined"
          ]
        }
      ]
    },
    {
      "cell_type": "markdown",
      "metadata": {
        "id": "DUrfzlAOO2sP",
        "colab_type": "text"
      },
      "source": [
        "## Save model"
      ]
    },
    {
      "cell_type": "code",
      "metadata": {
        "id": "fnFtrkS8N9Xq",
        "colab_type": "code",
        "colab": {}
      },
      "source": [
        "#from google.colab import drive\n",
        "#drive.mount('/content/gdrive')\n",
        "#!ls \"/content/gdrive/My Drive/Colab Notebooks/202006 BinaryAddition/Model\"\n",
        "#model.save(\"10D-H3000-RNN.h5\")"
      ],
      "execution_count": null,
      "outputs": []
    },
    {
      "cell_type": "markdown",
      "metadata": {
        "id": "-fog_q4xO5uT",
        "colab_type": "text"
      },
      "source": [
        "## Tensorboard"
      ]
    },
    {
      "cell_type": "code",
      "metadata": {
        "id": "P5xkEa6M1_l5",
        "colab_type": "code",
        "colab": {}
      },
      "source": [
        "#%tensorboard --logdir logs"
      ],
      "execution_count": null,
      "outputs": []
    },
    {
      "cell_type": "markdown",
      "metadata": {
        "id": "eNXwkwDFO-Rc",
        "colab_type": "text"
      },
      "source": [
        "## Check weight"
      ]
    },
    {
      "cell_type": "code",
      "metadata": {
        "id": "w1ikxwaf-LUj",
        "colab_type": "code",
        "colab": {}
      },
      "source": [
        "def GetParams():\n",
        "    for layer in model.layers:\n",
        "        weight = layer.get_weights()\n",
        "        if \"rnn\" in layer.name:            \n",
        "            wi = weight[0]\n",
        "            wh = weight[1]\n",
        "            wb = weight[2]\n",
        "        if \"time_\" in layer.name:\n",
        "            ri = weight[0]\n",
        "            ro = weight[1]\n",
        "    return wi, wh, wb, ri, ro\n"
      ],
      "execution_count": null,
      "outputs": []
    },
    {
      "cell_type": "code",
      "metadata": {
        "id": "pjVlWYPOrz3i",
        "colab_type": "code",
        "colab": {
          "base_uri": "https://localhost:8080/",
          "height": 119
        },
        "outputId": "f6b44076-8bed-416e-c5cf-9dfa476c802a"
      },
      "source": [
        "for layer in model.layers:\n",
        "    # get rnn only\n",
        "    print(len(layer.weights))\n",
        "    if \"rnn\" in layer.name:\n",
        "        print(\"weight of RNN\")\n",
        "        weight = layer.get_weights()\n",
        "        wi = weight[0]\n",
        "        wh = weight[1]\n",
        "        wb = weight[2]\n",
        "        print(wi.shape, wh.shape, wb.shape, )\n",
        "\n",
        "    if \"time_\" in layer.name:\n",
        "        print(\"weight of Dense\")\n",
        "        weight = layer.get_weights()\n",
        "        ri = weight[0]\n",
        "        ro = weight[1]\n",
        "        print(ri.shape, ro.shape)"
      ],
      "execution_count": null,
      "outputs": [
        {
          "output_type": "stream",
          "text": [
            "3\n",
            "weight of RNN\n",
            "(22, 15) (15, 15) (15,)\n",
            "2\n",
            "weight of Dense\n",
            "(15, 11) (11,)\n"
          ],
          "name": "stdout"
        }
      ]
    },
    {
      "cell_type": "markdown",
      "metadata": {
        "id": "tH_RfS2Hex-u",
        "colab_type": "text"
      },
      "source": [
        "#### Check Computation equivalence"
      ]
    },
    {
      "cell_type": "code",
      "metadata": {
        "id": "E2iV2JFlTmWd",
        "colab_type": "code",
        "colab": {
          "base_uri": "https://localhost:8080/",
          "height": 35
        },
        "outputId": "fa82e86d-2af1-49cb-a78d-9b176e1709ca"
      },
      "source": [
        "x_test = np.array(x_train[:10])\n",
        "y_test = np.array(y_train[:10])\n",
        "print(\"shape of x: {}\".format(x_test.shape))"
      ],
      "execution_count": null,
      "outputs": [
        {
          "output_type": "stream",
          "text": [
            "shape of x: (10, 4, 22)\n"
          ],
          "name": "stdout"
        }
      ]
    },
    {
      "cell_type": "code",
      "metadata": {
        "id": "n7pt9dRgaIOl",
        "colab_type": "code",
        "colab": {}
      },
      "source": [
        "def show_():\n",
        "    for i in range(5):\n",
        "        ind = np.random.randint(0, len(x_val))\n",
        "        rowx, rowy = x_train[np.array([ind])], y_train[np.array([ind])]\n",
        "        preds = AsRNN(rowx)\n",
        "        preds2 = model.predict_classes(rowx, verbose=0)\n",
        "\n",
        "        x = np.nonzero(rowx[0])[1]\n",
        "        y = np.nonzero(rowy[0])[1]\n",
        "        p = preds[0]\n",
        "        augend = \"\".join(chars[x[i]] for i in [4,2,0])\n",
        "        addend = \"\".join(chars[x[i]-11] for i in [5,3,1])\n",
        "        target = \"\".join(chars[y[i]] for i in range(4))[::-1]\n",
        "        while p[-1] == 0: p=p[:-1]\n",
        "        output = \"\".join(str(p[i]-1) for i in range(len(p)))[::-1]\n",
        "\n",
        "        print('Q {} + {}'.format(augend, addend), end=' ')\n",
        "        print('T {}'.format(target), end=' ')\n",
        "\n",
        "        while target[0] == \" \": target=target[1:]\n",
        "\n",
        "        while target[-1] == \" \": target=target[:-1]\n",
        "        if target == output:\n",
        "            print(colors.ok + '☑' + colors.close, end=' ')\n",
        "        else:\n",
        "            print(colors.fail + '☒' + colors.close, end=' ')\n",
        "        print(output)"
      ],
      "execution_count": null,
      "outputs": []
    },
    {
      "cell_type": "code",
      "metadata": {
        "id": "dl8c43OUaIYV",
        "colab_type": "code",
        "colab": {
          "base_uri": "https://localhost:8080/",
          "height": 107
        },
        "outputId": "904b5ad6-05a7-49aa-b102-6ff7aa023e78"
      },
      "source": [
        "def AsRNN(x_test):\n",
        "    def to_prediction(output):\n",
        "        prediction = np.dot(output, ri) + ro\n",
        "        prediction = np.exp(prediction)/sum(np.exp(prediction))\n",
        "        return np.argmax(prediction)\n",
        "    Collect_pred = list()\n",
        "    for batch in x_test:\n",
        "        prev_output = np.zeros((HIDDEN_SIZE))\n",
        "        for input in batch:\n",
        "            h = np.dot(input, wi) + wb  \n",
        "            output = np.tanh( h + np.dot(prev_output, wh))\n",
        "            prev_output = output\n",
        "            Collect_pred.append(to_prediction(output))\n",
        "    return np.array([Collect_pred])\n",
        "show_()"
      ],
      "execution_count": null,
      "outputs": [
        {
          "output_type": "stream",
          "text": [
            "Q   5 +  83 T   88 \u001b[92m☑\u001b[0m 88\n",
            "Q 794 + 703 T 1497 \u001b[92m☑\u001b[0m 1497\n",
            "Q  61 +  78 T  139 \u001b[92m☑\u001b[0m 139\n",
            "Q  65 +  71 T  136 \u001b[92m☑\u001b[0m 136\n",
            "Q   5 + 310 T  315 \u001b[92m☑\u001b[0m 315\n"
          ],
          "name": "stdout"
        }
      ]
    },
    {
      "cell_type": "code",
      "metadata": {
        "id": "bTOTSND8UhSK",
        "colab_type": "code",
        "colab": {
          "base_uri": "https://localhost:8080/",
          "height": 286
        },
        "outputId": "51fab92c-66a9-4c72-9ae7-204f3ba0f2b6"
      },
      "source": [
        "_ = plt.hist(wi.flatten(), density=True, bins=20, alpha=0.2, label=\"in\")\n",
        "_ = plt.hist(wh.flatten(), density=True, bins=50, alpha=0.2, label=\"hidden\")\n",
        "_ = plt.hist(wb.flatten(), density=True, bins=20, alpha=0.2, label=\"out\")\n",
        "plt.legend()\n",
        "plt.xlim([-1.5,1.5])"
      ],
      "execution_count": null,
      "outputs": [
        {
          "output_type": "execute_result",
          "data": {
            "text/plain": [
              "(-1.5, 1.5)"
            ]
          },
          "metadata": {
            "tags": []
          },
          "execution_count": 170
        },
        {
          "output_type": "display_data",
          "data": {
            "image/png": "[encoded data removed]",
            "text/plain": [
              "<Figure size 432x288 with 1 Axes>"
            ]
          },
          "metadata": {
            "tags": []
          }
        }
      ]
    },
    {
      "cell_type": "markdown",
      "metadata": {
        "id": "f4c_jgIukEXn",
        "colab_type": "text"
      },
      "source": [
        "## Model Inspection"
      ]
    },
    {
      "cell_type": "code",
      "metadata": {
        "id": "xHa2ccloUzd_",
        "colab_type": "code",
        "colab": {
          "base_uri": "https://localhost:8080/",
          "height": 125
        },
        "outputId": "809bfaf7-b0aa-423d-c873-74cca80eb6dc"
      },
      "source": [
        "#@ check the inter\n",
        "import heapq\n",
        "    \n",
        "ind = np.random.randint(0, len(x_val))\n",
        "rowx, rowy = x_train[np.array([ind])], y_train[np.array([ind])]\n",
        "\n",
        "x_test = rowx\n",
        "def to_prediction(output, num):\n",
        "    prediction = np.dot(output, ri) + ro\n",
        "    prediction = np.exp(prediction)/sum(np.exp(prediction))\n",
        "    return prediction.argsort()[-num:][::-1] - 1\n",
        "Collect_Before = list()\n",
        "Collect_After = list()\n",
        "for batch in x_test:\n",
        "    prev_output = np.zeros((HIDDEN_SIZE))\n",
        "    for input in batch:\n",
        "        h = np.dot(input, wi) + wb  \n",
        "        Collect_Before.append(to_prediction(h, 3))\n",
        "        output = np.tanh( h + np.dot(prev_output, wh))\n",
        "        prev_output = output\n",
        "        Collect_After.append(to_prediction(output, 3))\n",
        "x = np.nonzero(x_test[0])[1]\n",
        "augend = \"\".join(chars[x[i]] for i in [4,2,0])\n",
        "addend = \"\".join(chars[x[i]-11] for i in [5,3,1])\n",
        "print(augend, addend, \"\\n\")\n",
        "\n",
        "for i in range(4):\n",
        "    print(\"Round {}\".format(i), Collect_Before[i], \"\\t\", Collect_After[i])"
      ],
      "execution_count": null,
      "outputs": [
        {
          "output_type": "stream",
          "text": [
            "664 873 \n",
            "\n",
            "Round 0 [3 4 6] \t [7 6 0]\n",
            "Round 1 [7 9 6] \t [3 4 0]\n",
            "Round 2 [9 6 7] \t [5 6 4]\n",
            "Round 3 [1 8 0] \t [1 2 0]\n"
          ],
          "name": "stdout"
        }
      ]
    },
    {
      "cell_type": "markdown",
      "metadata": {
        "id": "lb5PXAkG9233",
        "colab_type": "text"
      },
      "source": [
        "### Produce Many Models"
      ]
    },
    {
      "cell_type": "code",
      "metadata": {
        "id": "hWTlr4UXHEkO",
        "colab_type": "code",
        "colab": {}
      },
      "source": [
        "#ref https://stackoverflow.com/questions/53500047/stop-training-in-keras-when-accuracy-is-already-1-0\n",
        "\n",
        "class EearlyStopLoss(Callback):\n",
        "    def __init__(self, monitor='val_loss', threshold=0.01, patience=5):\n",
        "        super(EearlyStopLoss, self).__init__()\n",
        "        self.monitor = monitor\n",
        "        self.threshold = threshold\n",
        "        self.patience = patience\n",
        "        self.wait = 0\n",
        "\n",
        "    def on_epoch_end(self, epoch, logs=None):\n",
        "        loss = logs.get(self.monitor)\n",
        "        if loss is not None:\n",
        "            self.wait += 1\n",
        "            if loss <= self.threshold and self.wait > self.patience:\n",
        "                print('Epoch %d: Reached baseline, terminating training' % (epoch))\n",
        "                self.model.stop_training = True"
      ],
      "execution_count": null,
      "outputs": []
    },
    {
      "cell_type": "code",
      "metadata": {
        "id": "CJPx0jvuExWs",
        "colab_type": "code",
        "colab": {}
      },
      "source": [
        "def GetParams():\n",
        "    for layer in model.layers:\n",
        "        weight = layer.get_weights()\n",
        "        if \"rnn\" in layer.name:            \n",
        "            wi = weight[0]\n",
        "            wh = weight[1]\n",
        "            wb = weight[2]\n",
        "        if \"time_\" in layer.name:\n",
        "            ri = weight[0]\n",
        "            ro = weight[1]\n",
        "    return wi, wh, wb, ri, ro\n",
        "def BuildModel_Reduction():\n",
        "    model = Sequential()\n",
        "    model.add(layers.Dense(6, input_shape=(DIGITS + 1, len(chars*2))))\n",
        "    model.add(SimpleRNN(6, return_sequences=True))\n",
        "    model.add(layers.TimeDistributed(layers.Dense(len(chars), activation='softmax')))\n",
        "    model.compile(loss='categorical_crossentropy', optimizer='adam', metrics=['accuracy'])\n",
        "    return model"
      ],
      "execution_count": null,
      "outputs": []
    },
    {
      "cell_type": "code",
      "metadata": {
        "id": "rLC2vaBz92Eo",
        "colab_type": "code",
        "colab": {
          "base_uri": "https://localhost:8080/",
          "height": 1000
        },
        "outputId": "6a5b60b1-76f1-4961-affb-dcb91380462c"
      },
      "source": [
        "import time\n",
        "#logdir = os.path.join(\"logs\", datetime.datetime.now().strftime(\"%Y%m%d-%H%M%S\"))\n",
        "#tensorboard_callback = TensorBoard(logdir, histogram_freq=1)\n",
        "\n",
        "for HIDDEN_SIZE in [12]:\n",
        "    print(\"Setting: \" + colors.fail + \"HIDDEN SIZE={}\".format(HIDDEN_SIZE) + colors.close)\n",
        "    for iter in range(1):\n",
        "        #model = BuildModel_Reduction()\n",
        "        model.fit(x_train, y_train,\n",
        "                  batch_size=BATCH_SIZE,\n",
        "                  epochs=150,\n",
        "                  validation_data=(x_val, y_val),\n",
        "                  callbacks=[EearlyStopLoss(threshold=0.01)],\n",
        "                  verbose=1)\n",
        "        wi, wh, wb, ri, ro = GetParams()\n",
        "        for NameWeight in [\"WI\", \"WH\", \"RI\"]:\n",
        "            figsize = (10, 5 + HIDDEN_SIZE/5)\n",
        "            if NameWeight == \"WI\": g = sns.clustermap(wi, cmap=\"RdBu_r\", vmin=-5, vmax=5, figsize=(4,4), row_cluster=False)\n",
        "            if NameWeight == \"WH\": g = sns.clustermap(wh, cmap=\"RdBu_r\", vmin=-2, vmax=2, figsize=(4,4))\n",
        "            if NameWeight == \"RI\": g = sns.clustermap(ri, cmap=\"RdBu_r\", vmin=-5, vmax=5, figsize=(4,4), col_cluster=False)\n",
        "            plt.title(\"H{}-{}-{}\".format(HIDDEN_SIZE, iter, NameWeight))\n",
        "            fname = \"H{}-{}-{}.png\".format(HIDDEN_SIZE, iter, NameWeight)\n",
        "            #g.savefig(fname)\n",
        "            #files.download(fname)\n",
        "        break\n",
        "    break"
      ],
      "execution_count": null,
      "outputs": [
        {
          "output_type": "stream",
          "text": [
            "Setting: \u001b[91mHIDDEN SIZE=12\u001b[0m\n",
            "Train on 45000 samples, validate on 5000 samples\n",
            "Epoch 1/150\n",
            "45000/45000 [==============================] - 1s 20us/step - loss: 0.0936 - accuracy: 0.9802 - val_loss: 0.0951 - val_accuracy: 0.9800\n",
            "Epoch 2/150\n",
            "45000/45000 [==============================] - 1s 20us/step - loss: 0.0933 - accuracy: 0.9805 - val_loss: 0.0951 - val_accuracy: 0.9808\n",
            "Epoch 3/150\n",
            "45000/45000 [==============================] - 1s 20us/step - loss: 0.0930 - accuracy: 0.9803 - val_loss: 0.0950 - val_accuracy: 0.9805\n",
            "Epoch 4/150\n",
            "45000/45000 [==============================] - 1s 19us/step - loss: 0.0928 - accuracy: 0.9804 - val_loss: 0.0946 - val_accuracy: 0.9806\n",
            "Epoch 5/150\n",
            "45000/45000 [==============================] - 1s 20us/step - loss: 0.0926 - accuracy: 0.9804 - val_loss: 0.0942 - val_accuracy: 0.9806\n",
            "Epoch 6/150\n",
            "45000/45000 [==============================] - 1s 20us/step - loss: 0.0924 - accuracy: 0.9806 - val_loss: 0.0943 - val_accuracy: 0.9769\n",
            "Epoch 7/150\n",
            "45000/45000 [==============================] - 1s 19us/step - loss: 0.0922 - accuracy: 0.9805 - val_loss: 0.0938 - val_accuracy: 0.9801\n",
            "Epoch 8/150\n",
            "45000/45000 [==============================] - 1s 20us/step - loss: 0.0920 - accuracy: 0.9805 - val_loss: 0.0936 - val_accuracy: 0.9772\n",
            "Epoch 9/150\n",
            "45000/45000 [==============================] - 1s 19us/step - loss: 0.0917 - accuracy: 0.9805 - val_loss: 0.0934 - val_accuracy: 0.9810\n",
            "Epoch 10/150\n",
            "45000/45000 [==============================] - 1s 22us/step - loss: 0.0915 - accuracy: 0.9806 - val_loss: 0.0929 - val_accuracy: 0.9803\n",
            "Epoch 11/150\n",
            "45000/45000 [==============================] - 1s 21us/step - loss: 0.0913 - accuracy: 0.9807 - val_loss: 0.0931 - val_accuracy: 0.9775\n",
            "Epoch 12/150\n",
            "45000/45000 [==============================] - 1s 21us/step - loss: 0.0910 - accuracy: 0.9807 - val_loss: 0.0928 - val_accuracy: 0.9804\n",
            "Epoch 13/150\n",
            "45000/45000 [==============================] - 1s 21us/step - loss: 0.0908 - accuracy: 0.9806 - val_loss: 0.0923 - val_accuracy: 0.9805\n",
            "Epoch 14/150\n",
            "45000/45000 [==============================] - 1s 20us/step - loss: 0.0906 - accuracy: 0.9807 - val_loss: 0.0925 - val_accuracy: 0.9807\n",
            "Epoch 15/150\n",
            "45000/45000 [==============================] - 1s 20us/step - loss: 0.0904 - accuracy: 0.9807 - val_loss: 0.0919 - val_accuracy: 0.9804\n",
            "Epoch 16/150\n",
            "45000/45000 [==============================] - 1s 20us/step - loss: 0.0902 - accuracy: 0.9807 - val_loss: 0.0920 - val_accuracy: 0.9803\n",
            "Epoch 17/150\n",
            "45000/45000 [==============================] - 1s 20us/step - loss: 0.0900 - accuracy: 0.9807 - val_loss: 0.0916 - val_accuracy: 0.9808\n",
            "Epoch 18/150\n",
            "45000/45000 [==============================] - 1s 23us/step - loss: 0.0897 - accuracy: 0.9808 - val_loss: 0.0912 - val_accuracy: 0.9802\n",
            "Epoch 19/150\n",
            "45000/45000 [==============================] - 1s 20us/step - loss: 0.0895 - accuracy: 0.9807 - val_loss: 0.0915 - val_accuracy: 0.9775\n",
            "Epoch 20/150\n",
            "45000/45000 [==============================] - 1s 22us/step - loss: 0.0893 - accuracy: 0.9808 - val_loss: 0.0908 - val_accuracy: 0.9804\n",
            "Epoch 21/150\n",
            "45000/45000 [==============================] - 1s 20us/step - loss: 0.0891 - accuracy: 0.9808 - val_loss: 0.0906 - val_accuracy: 0.9809\n",
            "Epoch 22/150\n",
            "45000/45000 [==============================] - 1s 19us/step - loss: 0.0888 - accuracy: 0.9808 - val_loss: 0.0906 - val_accuracy: 0.9801\n",
            "Epoch 23/150\n",
            "45000/45000 [==============================] - 1s 21us/step - loss: 0.0887 - accuracy: 0.9809 - val_loss: 0.0906 - val_accuracy: 0.9800\n",
            "Epoch 24/150\n",
            "45000/45000 [==============================] - 1s 21us/step - loss: 0.0885 - accuracy: 0.9810 - val_loss: 0.0902 - val_accuracy: 0.9803\n",
            "Epoch 25/150\n",
            "45000/45000 [==============================] - 1s 19us/step - loss: 0.0883 - accuracy: 0.9809 - val_loss: 0.0900 - val_accuracy: 0.9808\n",
            "Epoch 26/150\n",
            "45000/45000 [==============================] - 1s 19us/step - loss: 0.0881 - accuracy: 0.9808 - val_loss: 0.0901 - val_accuracy: 0.9811\n",
            "Epoch 27/150\n",
            "45000/45000 [==============================] - 1s 22us/step - loss: 0.0879 - accuracy: 0.9809 - val_loss: 0.0895 - val_accuracy: 0.9807\n",
            "Epoch 28/150\n",
            "45000/45000 [==============================] - 1s 20us/step - loss: 0.0877 - accuracy: 0.9809 - val_loss: 0.0891 - val_accuracy: 0.9808\n",
            "Epoch 29/150\n",
            "45000/45000 [==============================] - 1s 20us/step - loss: 0.0875 - accuracy: 0.9811 - val_loss: 0.0892 - val_accuracy: 0.9804\n",
            "Epoch 30/150\n",
            "45000/45000 [==============================] - 1s 19us/step - loss: 0.0873 - accuracy: 0.9809 - val_loss: 0.0891 - val_accuracy: 0.9806\n",
            "Epoch 31/150\n",
            "45000/45000 [==============================] - 1s 19us/step - loss: 0.0870 - accuracy: 0.9809 - val_loss: 0.0890 - val_accuracy: 0.9802\n",
            "Epoch 32/150\n",
            "45000/45000 [==============================] - 1s 19us/step - loss: 0.0869 - accuracy: 0.9810 - val_loss: 0.0884 - val_accuracy: 0.9804\n",
            "Epoch 33/150\n",
            "45000/45000 [==============================] - 1s 22us/step - loss: 0.0867 - accuracy: 0.9809 - val_loss: 0.0892 - val_accuracy: 0.9817\n",
            "Epoch 34/150\n",
            "45000/45000 [==============================] - 1s 20us/step - loss: 0.0865 - accuracy: 0.9810 - val_loss: 0.0882 - val_accuracy: 0.9776\n",
            "Epoch 35/150\n",
            "45000/45000 [==============================] - 1s 19us/step - loss: 0.0863 - accuracy: 0.9810 - val_loss: 0.0878 - val_accuracy: 0.9806\n",
            "Epoch 36/150\n",
            "45000/45000 [==============================] - 1s 20us/step - loss: 0.0861 - accuracy: 0.9811 - val_loss: 0.0876 - val_accuracy: 0.9804\n",
            "Epoch 37/150\n",
            "45000/45000 [==============================] - 1s 20us/step - loss: 0.0859 - accuracy: 0.9811 - val_loss: 0.0875 - val_accuracy: 0.9807\n",
            "Epoch 38/150\n",
            "45000/45000 [==============================] - 1s 20us/step - loss: 0.0858 - accuracy: 0.9810 - val_loss: 0.0872 - val_accuracy: 0.9805\n",
            "Epoch 39/150\n",
            "45000/45000 [==============================] - 1s 20us/step - loss: 0.0855 - accuracy: 0.9811 - val_loss: 0.0868 - val_accuracy: 0.9806\n",
            "Epoch 40/150\n",
            "45000/45000 [==============================] - 1s 22us/step - loss: 0.0854 - accuracy: 0.9811 - val_loss: 0.0870 - val_accuracy: 0.9809\n",
            "Epoch 41/150\n",
            "45000/45000 [==============================] - 1s 20us/step - loss: 0.0852 - accuracy: 0.9812 - val_loss: 0.0869 - val_accuracy: 0.9809\n",
            "Epoch 42/150\n",
            "45000/45000 [==============================] - 1s 21us/step - loss: 0.0850 - accuracy: 0.9812 - val_loss: 0.0869 - val_accuracy: 0.9778\n",
            "Epoch 43/150\n",
            "45000/45000 [==============================] - 1s 20us/step - loss: 0.0848 - accuracy: 0.9810 - val_loss: 0.0864 - val_accuracy: 0.9808\n",
            "Epoch 44/150\n",
            "45000/45000 [==============================] - 1s 22us/step - loss: 0.0847 - accuracy: 0.9812 - val_loss: 0.0870 - val_accuracy: 0.9775\n",
            "Epoch 45/150\n",
            "45000/45000 [==============================] - 1s 20us/step - loss: 0.0845 - accuracy: 0.9811 - val_loss: 0.0863 - val_accuracy: 0.9804\n",
            "Epoch 46/150\n",
            "45000/45000 [==============================] - 1s 20us/step - loss: 0.0844 - accuracy: 0.9811 - val_loss: 0.0860 - val_accuracy: 0.9804\n",
            "Epoch 47/150\n",
            "45000/45000 [==============================] - 1s 20us/step - loss: 0.0841 - accuracy: 0.9811 - val_loss: 0.0857 - val_accuracy: 0.9814\n",
            "Epoch 48/150\n",
            "45000/45000 [==============================] - 1s 20us/step - loss: 0.0841 - accuracy: 0.9811 - val_loss: 0.0855 - val_accuracy: 0.9810\n",
            "Epoch 49/150\n",
            "45000/45000 [==============================] - 1s 22us/step - loss: 0.0839 - accuracy: 0.9811 - val_loss: 0.0853 - val_accuracy: 0.9809\n",
            "Epoch 50/150\n",
            "45000/45000 [==============================] - 1s 22us/step - loss: 0.0836 - accuracy: 0.9811 - val_loss: 0.0849 - val_accuracy: 0.9811\n",
            "Epoch 51/150\n",
            "45000/45000 [==============================] - 1s 19us/step - loss: 0.0835 - accuracy: 0.9812 - val_loss: 0.0849 - val_accuracy: 0.9809\n",
            "Epoch 52/150\n",
            "31232/45000 [===================>..........] - ETA: 0s - loss: 0.0834 - accuracy: 0.9811Epoch 53/150\n",
            "45000/45000 [==============================] - 1s 21us/step - loss: 0.0832 - accuracy: 0.9813 - val_loss: 0.0850 - val_accuracy: 0.9818\n",
            "Epoch 54/150\n",
            "45000/45000 [==============================] - 1s 19us/step - loss: 0.0830 - accuracy: 0.9813 - val_loss: 0.0844 - val_accuracy: 0.9804\n",
            "Epoch 55/150\n",
            "45000/45000 [==============================] - 1s 20us/step - loss: 0.0829 - accuracy: 0.9813 - val_loss: 0.0842 - val_accuracy: 0.9808\n",
            "Epoch 56/150\n",
            "45000/45000 [==============================] - 1s 20us/step - loss: 0.0827 - accuracy: 0.9813 - val_loss: 0.0843 - val_accuracy: 0.9809\n",
            "Epoch 57/150\n",
            "45000/45000 [==============================] - 1s 19us/step - loss: 0.0825 - accuracy: 0.9812 - val_loss: 0.0843 - val_accuracy: 0.9809\n",
            "Epoch 58/150\n",
            "45000/45000 [==============================] - 1s 19us/step - loss: 0.0824 - accuracy: 0.9812 - val_loss: 0.0841 - val_accuracy: 0.9808\n",
            "Epoch 59/150\n",
            "45000/45000 [==============================] - 1s 19us/step - loss: 0.0822 - accuracy: 0.9813 - val_loss: 0.0838 - val_accuracy: 0.9808\n",
            "Epoch 60/150\n",
            "45000/45000 [==============================] - 1s 21us/step - loss: 0.0821 - accuracy: 0.9814 - val_loss: 0.0838 - val_accuracy: 0.9804\n",
            "Epoch 61/150\n",
            "45000/45000 [==============================] - 1s 19us/step - loss: 0.0819 - accuracy: 0.9812 - val_loss: 0.0833 - val_accuracy: 0.9808\n",
            "Epoch 62/150\n",
            "45000/45000 [==============================] - 1s 19us/step - loss: 0.0817 - accuracy: 0.9812 - val_loss: 0.0832 - val_accuracy: 0.9807\n",
            "Epoch 63/150\n",
            "45000/45000 [==============================] - 1s 22us/step - loss: 0.0817 - accuracy: 0.9813 - val_loss: 0.0832 - val_accuracy: 0.9811\n",
            "Epoch 64/150\n",
            "45000/45000 [==============================] - 1s 19us/step - loss: 0.0814 - accuracy: 0.9813 - val_loss: 0.0830 - val_accuracy: 0.9804\n",
            "Epoch 65/150\n",
            "45000/45000 [==============================] - 1s 19us/step - loss: 0.0812 - accuracy: 0.9813 - val_loss: 0.0825 - val_accuracy: 0.9811\n",
            "Epoch 66/150\n",
            "45000/45000 [==============================] - 1s 19us/step - loss: 0.0811 - accuracy: 0.9814 - val_loss: 0.0827 - val_accuracy: 0.9808\n",
            "Epoch 67/150\n",
            "45000/45000 [==============================] - 1s 19us/step - loss: 0.0811 - accuracy: 0.9813 - val_loss: 0.0827 - val_accuracy: 0.9812\n",
            "Epoch 68/150\n",
            "45000/45000 [==============================] - 1s 20us/step - loss: 0.0809 - accuracy: 0.9814 - val_loss: 0.0821 - val_accuracy: 0.9807\n",
            "Epoch 69/150\n",
            "45000/45000 [==============================] - 1s 19us/step - loss: 0.0808 - accuracy: 0.9814 - val_loss: 0.0821 - val_accuracy: 0.9808\n",
            "Epoch 70/150\n",
            "45000/45000 [==============================] - 1s 19us/step - loss: 0.0805 - accuracy: 0.9813 - val_loss: 0.0819 - val_accuracy: 0.9809\n",
            "Epoch 71/150\n",
            "45000/45000 [==============================] - 1s 19us/step - loss: 0.0803 - accuracy: 0.9815 - val_loss: 0.0817 - val_accuracy: 0.9810\n",
            "Epoch 72/150\n",
            "45000/45000 [==============================] - 1s 19us/step - loss: 0.0803 - accuracy: 0.9813 - val_loss: 0.0820 - val_accuracy: 0.9816\n",
            "Epoch 73/150\n",
            "45000/45000 [==============================] - 1s 21us/step - loss: 0.0802 - accuracy: 0.9814 - val_loss: 0.0816 - val_accuracy: 0.9809\n",
            "Epoch 74/150\n",
            "45000/45000 [==============================] - 1s 20us/step - loss: 0.0800 - accuracy: 0.9814 - val_loss: 0.0818 - val_accuracy: 0.9815\n",
            "Epoch 75/150\n",
            "45000/45000 [==============================] - 1s 19us/step - loss: 0.0798 - accuracy: 0.9814 - val_loss: 0.0814 - val_accuracy: 0.9812\n",
            "Epoch 76/150\n",
            "45000/45000 [==============================] - 1s 19us/step - loss: 0.0797 - accuracy: 0.9814 - val_loss: 0.0810 - val_accuracy: 0.9809\n",
            "Epoch 77/150\n",
            "45000/45000 [==============================] - 1s 20us/step - loss: 0.0795 - accuracy: 0.9813 - val_loss: 0.0810 - val_accuracy: 0.9809\n",
            "Epoch 78/150\n",
            "45000/45000 [==============================] - 1s 19us/step - loss: 0.0794 - accuracy: 0.9814 - val_loss: 0.0813 - val_accuracy: 0.9804\n",
            "Epoch 79/150\n",
            "45000/45000 [==============================] - 1s 22us/step - loss: 0.0793 - accuracy: 0.9813 - val_loss: 0.0807 - val_accuracy: 0.9810\n",
            "Epoch 80/150\n",
            "45000/45000 [==============================] - 1s 22us/step - loss: 0.0791 - accuracy: 0.9814 - val_loss: 0.0812 - val_accuracy: 0.9815\n",
            "Epoch 81/150\n",
            "45000/45000 [==============================] - 1s 19us/step - loss: 0.0790 - accuracy: 0.9815 - val_loss: 0.0806 - val_accuracy: 0.9805\n",
            "Epoch 82/150\n",
            "45000/45000 [==============================] - 1s 21us/step - loss: 0.0789 - accuracy: 0.9815 - val_loss: 0.0805 - val_accuracy: 0.9812\n",
            "Epoch 83/150\n",
            "45000/45000 [==============================] - 1s 19us/step - loss: 0.0787 - accuracy: 0.9814 - val_loss: 0.0803 - val_accuracy: 0.9808\n",
            "Epoch 84/150\n",
            "45000/45000 [==============================] - 1s 19us/step - loss: 0.0787 - accuracy: 0.9815 - val_loss: 0.0801 - val_accuracy: 0.9813\n",
            "Epoch 85/150\n",
            "45000/45000 [==============================] - 1s 19us/step - loss: 0.0785 - accuracy: 0.9815 - val_loss: 0.0797 - val_accuracy: 0.9809\n",
            "Epoch 86/150\n",
            "45000/45000 [==============================] - 1s 20us/step - loss: 0.0783 - accuracy: 0.9813 - val_loss: 0.0796 - val_accuracy: 0.9815\n",
            "Epoch 87/150\n",
            "45000/45000 [==============================] - 1s 19us/step - loss: 0.0782 - accuracy: 0.9815 - val_loss: 0.0799 - val_accuracy: 0.9808\n",
            "Epoch 88/150\n",
            "45000/45000 [==============================] - 1s 19us/step - loss: 0.0781 - accuracy: 0.9815 - val_loss: 0.0798 - val_accuracy: 0.9807\n",
            "Epoch 89/150\n",
            "45000/45000 [==============================] - 1s 19us/step - loss: 0.0779 - accuracy: 0.9815 - val_loss: 0.0798 - val_accuracy: 0.9805\n",
            "Epoch 90/150\n",
            "45000/45000 [==============================] - 1s 22us/step - loss: 0.0778 - accuracy: 0.9815 - val_loss: 0.0793 - val_accuracy: 0.9815\n",
            "Epoch 91/150\n",
            "45000/45000 [==============================] - 1s 20us/step - loss: 0.0777 - accuracy: 0.9816 - val_loss: 0.0790 - val_accuracy: 0.9809\n",
            "Epoch 92/150\n",
            "45000/45000 [==============================] - 1s 20us/step - loss: 0.0776 - accuracy: 0.9815 - val_loss: 0.0790 - val_accuracy: 0.9812\n",
            "Epoch 93/150\n",
            "45000/45000 [==============================] - 1s 19us/step - loss: 0.0774 - accuracy: 0.9816 - val_loss: 0.0793 - val_accuracy: 0.9819\n",
            "Epoch 94/150\n",
            "45000/45000 [==============================] - 1s 19us/step - loss: 0.0773 - accuracy: 0.9816 - val_loss: 0.0788 - val_accuracy: 0.9816\n",
            "Epoch 95/150\n",
            "45000/45000 [==============================] - 1s 20us/step - loss: 0.0772 - accuracy: 0.9816 - val_loss: 0.0784 - val_accuracy: 0.9813\n",
            "Epoch 96/150\n",
            "45000/45000 [==============================] - 1s 20us/step - loss: 0.0770 - accuracy: 0.9817 - val_loss: 0.0784 - val_accuracy: 0.9812\n",
            "Epoch 97/150\n",
            "45000/45000 [==============================] - 1s 19us/step - loss: 0.0768 - accuracy: 0.9818 - val_loss: 0.0784 - val_accuracy: 0.9809\n",
            "Epoch 98/150\n",
            "45000/45000 [==============================] - 1s 21us/step - loss: 0.0768 - accuracy: 0.9817 - val_loss: 0.0786 - val_accuracy: 0.9819\n",
            "Epoch 99/150\n",
            "45000/45000 [==============================] - 1s 19us/step - loss: 0.0767 - accuracy: 0.9817 - val_loss: 0.0782 - val_accuracy: 0.9814\n",
            "Epoch 100/150\n",
            "45000/45000 [==============================] - 1s 19us/step - loss: 0.0766 - accuracy: 0.9819 - val_loss: 0.0780 - val_accuracy: 0.9815\n",
            "Epoch 101/150\n",
            "45000/45000 [==============================] - 1s 19us/step - loss: 0.0765 - accuracy: 0.9817 - val_loss: 0.0780 - val_accuracy: 0.9813\n",
            "Epoch 102/150\n",
            "45000/45000 [==============================] - 1s 19us/step - loss: 0.0764 - accuracy: 0.9818 - val_loss: 0.0777 - val_accuracy: 0.9819\n",
            "Epoch 103/150\n",
            "45000/45000 [==============================] - 1s 20us/step - loss: 0.0762 - accuracy: 0.9819 - val_loss: 0.0778 - val_accuracy: 0.9815\n",
            "Epoch 104/150\n",
            "45000/45000 [==============================] - 1s 19us/step - loss: 0.0761 - accuracy: 0.9819 - val_loss: 0.0774 - val_accuracy: 0.9818\n",
            "Epoch 105/150\n",
            "45000/45000 [==============================] - 1s 19us/step - loss: 0.0760 - accuracy: 0.9819 - val_loss: 0.0774 - val_accuracy: 0.9811\n",
            "Epoch 106/150\n",
            "45000/45000 [==============================] - 1s 19us/step - loss: 0.0759 - accuracy: 0.9819 - val_loss: 0.0774 - val_accuracy: 0.9809\n",
            "Epoch 107/150\n",
            "45000/45000 [==============================] - 1s 19us/step - loss: 0.0757 - accuracy: 0.9819 - val_loss: 0.0770 - val_accuracy: 0.9815\n",
            "Epoch 108/150\n",
            "45000/45000 [==============================] - 1s 19us/step - loss: 0.0756 - accuracy: 0.9819 - val_loss: 0.0769 - val_accuracy: 0.9817\n",
            "Epoch 109/150\n",
            "45000/45000 [==============================] - 1s 19us/step - loss: 0.0756 - accuracy: 0.9819 - val_loss: 0.0772 - val_accuracy: 0.9815\n",
            "Epoch 110/150\n",
            "45000/45000 [==============================] - 1s 20us/step - loss: 0.0754 - accuracy: 0.9821 - val_loss: 0.0769 - val_accuracy: 0.9814\n",
            "Epoch 111/150\n",
            "45000/45000 [==============================] - 1s 20us/step - loss: 0.0753 - accuracy: 0.9820 - val_loss: 0.0769 - val_accuracy: 0.9808\n",
            "Epoch 112/150\n",
            "45000/45000 [==============================] - 1s 19us/step - loss: 0.0752 - accuracy: 0.9820 - val_loss: 0.0766 - val_accuracy: 0.9819\n",
            "Epoch 113/150\n",
            "45000/45000 [==============================] - 1s 20us/step - loss: 0.0750 - accuracy: 0.9820 - val_loss: 0.0763 - val_accuracy: 0.9814\n",
            "Epoch 114/150\n",
            "45000/45000 [==============================] - 1s 19us/step - loss: 0.0750 - accuracy: 0.9819 - val_loss: 0.0763 - val_accuracy: 0.9812\n",
            "Epoch 115/150\n",
            "45000/45000 [==============================] - 1s 19us/step - loss: 0.0749 - accuracy: 0.9820 - val_loss: 0.0761 - val_accuracy: 0.9816\n",
            "Epoch 116/150\n",
            "45000/45000 [==============================] - 1s 20us/step - loss: 0.0747 - accuracy: 0.9820 - val_loss: 0.0758 - val_accuracy: 0.9815\n",
            "Epoch 117/150\n",
            "45000/45000 [==============================] - 1s 20us/step - loss: 0.0746 - accuracy: 0.9819 - val_loss: 0.0761 - val_accuracy: 0.9818\n",
            "Epoch 118/150\n",
            "45000/45000 [==============================] - 1s 21us/step - loss: 0.0746 - accuracy: 0.9821 - val_loss: 0.0763 - val_accuracy: 0.9808\n",
            "Epoch 119/150\n",
            "45000/45000 [==============================] - 1s 21us/step - loss: 0.0745 - accuracy: 0.9821 - val_loss: 0.0760 - val_accuracy: 0.9811\n",
            "Epoch 120/150\n",
            "45000/45000 [==============================] - 1s 19us/step - loss: 0.0743 - accuracy: 0.9821 - val_loss: 0.0754 - val_accuracy: 0.9816\n",
            "Epoch 121/150\n",
            "45000/45000 [==============================] - 1s 20us/step - loss: 0.0742 - accuracy: 0.9821 - val_loss: 0.0754 - val_accuracy: 0.9818\n",
            "Epoch 122/150\n",
            "45000/45000 [==============================] - 1s 21us/step - loss: 0.0741 - accuracy: 0.9821 - val_loss: 0.0755 - val_accuracy: 0.9812\n",
            "Epoch 123/150\n",
            "45000/45000 [==============================] - 1s 20us/step - loss: 0.0738 - accuracy: 0.9821 - val_loss: 0.0755 - val_accuracy: 0.9819\n",
            "Epoch 124/150\n",
            "45000/45000 [==============================] - 1s 20us/step - loss: 0.0738 - accuracy: 0.9821 - val_loss: 0.0752 - val_accuracy: 0.9820\n",
            "Epoch 125/150\n",
            "45000/45000 [==============================] - 1s 20us/step - loss: 0.0739 - accuracy: 0.9821 - val_loss: 0.0753 - val_accuracy: 0.9822\n",
            "Epoch 126/150\n",
            "45000/45000 [==============================] - 1s 20us/step - loss: 0.0737 - accuracy: 0.9821 - val_loss: 0.0748 - val_accuracy: 0.9816\n",
            "Epoch 127/150\n",
            "45000/45000 [==============================] - 1s 20us/step - loss: 0.0735 - accuracy: 0.9821 - val_loss: 0.0751 - val_accuracy: 0.9814\n",
            "Epoch 128/150\n",
            "45000/45000 [==============================] - 1s 20us/step - loss: 0.0734 - accuracy: 0.9822 - val_loss: 0.0745 - val_accuracy: 0.9818\n",
            "Epoch 129/150\n",
            "45000/45000 [==============================] - 1s 20us/step - loss: 0.0732 - accuracy: 0.9822 - val_loss: 0.0748 - val_accuracy: 0.9811\n",
            "Epoch 130/150\n",
            "45000/45000 [==============================] - 1s 20us/step - loss: 0.0732 - accuracy: 0.9821 - val_loss: 0.0746 - val_accuracy: 0.9819\n",
            "Epoch 131/150\n",
            "45000/45000 [==============================] - 1s 20us/step - loss: 0.0731 - accuracy: 0.9822 - val_loss: 0.0748 - val_accuracy: 0.9819\n",
            "Epoch 132/150\n",
            "45000/45000 [==============================] - 1s 20us/step - loss: 0.0730 - accuracy: 0.9823 - val_loss: 0.0744 - val_accuracy: 0.9815\n",
            "Epoch 133/150\n",
            "45000/45000 [==============================] - 1s 22us/step - loss: 0.0729 - accuracy: 0.9823 - val_loss: 0.0745 - val_accuracy: 0.9822\n",
            "Epoch 134/150\n",
            "45000/45000 [==============================] - 1s 21us/step - loss: 0.0730 - accuracy: 0.9821 - val_loss: 0.0740 - val_accuracy: 0.9816\n",
            "Epoch 135/150\n",
            "45000/45000 [==============================] - 1s 19us/step - loss: 0.0727 - accuracy: 0.9822 - val_loss: 0.0741 - val_accuracy: 0.9814\n",
            "Epoch 136/150\n",
            "45000/45000 [==============================] - 1s 19us/step - loss: 0.0726 - accuracy: 0.9823 - val_loss: 0.0741 - val_accuracy: 0.9822\n",
            "Epoch 137/150\n",
            "45000/45000 [==============================] - 1s 20us/step - loss: 0.0726 - accuracy: 0.9823 - val_loss: 0.0737 - val_accuracy: 0.9817\n",
            "Epoch 138/150\n",
            "45000/45000 [==============================] - 1s 20us/step - loss: 0.0724 - accuracy: 0.9822 - val_loss: 0.0736 - val_accuracy: 0.9822\n",
            "Epoch 139/150\n",
            "45000/45000 [==============================] - 1s 21us/step - loss: 0.0723 - accuracy: 0.9823 - val_loss: 0.0736 - val_accuracy: 0.9821\n",
            "Epoch 140/150\n",
            "45000/45000 [==============================] - 1s 19us/step - loss: 0.0723 - accuracy: 0.9822 - val_loss: 0.0738 - val_accuracy: 0.9829\n",
            "Epoch 141/150\n",
            "45000/45000 [==============================] - 1s 20us/step - loss: 0.0722 - accuracy: 0.9823 - val_loss: 0.0738 - val_accuracy: 0.9815\n",
            "Epoch 142/150\n",
            "45000/45000 [==============================] - 1s 21us/step - loss: 0.0721 - accuracy: 0.9822 - val_loss: 0.0731 - val_accuracy: 0.9819\n",
            "Epoch 143/150\n",
            "45000/45000 [==============================] - 1s 21us/step - loss: 0.0720 - accuracy: 0.9823 - val_loss: 0.0732 - val_accuracy: 0.9822\n",
            "Epoch 144/150\n",
            "45000/45000 [==============================] - 1s 20us/step - loss: 0.0719 - accuracy: 0.9824 - val_loss: 0.0729 - val_accuracy: 0.9822\n",
            "Epoch 145/150\n",
            "45000/45000 [==============================] - 1s 19us/step - loss: 0.0717 - accuracy: 0.9823 - val_loss: 0.0728 - val_accuracy: 0.9814\n",
            "Epoch 146/150\n",
            "45000/45000 [==============================] - 1s 21us/step - loss: 0.0717 - accuracy: 0.9822 - val_loss: 0.0732 - val_accuracy: 0.9823\n",
            "Epoch 147/150\n",
            "45000/45000 [==============================] - 1s 20us/step - loss: 0.0716 - accuracy: 0.9823 - val_loss: 0.0730 - val_accuracy: 0.9824\n",
            "Epoch 148/150\n",
            "45000/45000 [==============================] - 1s 19us/step - loss: 0.0715 - accuracy: 0.9824 - val_loss: 0.0731 - val_accuracy: 0.9826\n",
            "Epoch 149/150\n",
            "45000/45000 [==============================] - 1s 20us/step - loss: 0.0714 - accuracy: 0.9824 - val_loss: 0.0723 - val_accuracy: 0.9818\n",
            "Epoch 150/150\n",
            "45000/45000 [==============================] - 1s 20us/step - loss: 0.0712 - accuracy: 0.9824 - val_loss: 0.0726 - val_accuracy: 0.9818\n"
          ],
          "name": "stdout"
        },
        {
          "output_type": "display_data",
          "data": {
            "image/png": "[encoded data removed]",
            "text/plain": [
              "<Figure size 288x288 with 4 Axes>"
            ]
          },
          "metadata": {
            "tags": [],
            "needs_background": "light"
          }
        },
        {
          "output_type": "display_data",
          "data": {
            "image/png": "[encoded data removed]",
            "text/plain": [
              "<Figure size 288x288 with 4 Axes>"
            ]
          },
          "metadata": {
            "tags": [],
            "needs_background": "light"
          }
        },
        {
          "output_type": "display_data",
          "data": {
            "image/png": "[encoded data removed]",
            "text/plain": [
              "<Figure size 288x288 with 4 Axes>"
            ]
          },
          "metadata": {
            "tags": [],
            "needs_background": "light"
          }
        }
      ]
    },
    {
      "cell_type": "code",
      "metadata": {
        "id": "RKKJaEaH9zul",
        "colab_type": "code",
        "colab": {
          "base_uri": "https://localhost:8080/",
          "height": 1000
        },
        "outputId": "6dc69ae1-35c0-4459-d50e-4786c552a25e"
      },
      "source": [
        "wi, wh, wb, ri, ro = GetParams()\n",
        "for NameWeight in [\"WI\", \"WH\", \"RI\"]:\n",
        "    figsize = (10, 5 + HIDDEN_SIZE/5)\n",
        "    if NameWeight == \"WI\": g = sns.clustermap(wi, cmap=\"RdBu_r\", vmin=-5, vmax=5, figsize=(8+HIDDEN_SIZE/5, 8), row_cluster=False)\n",
        "    if NameWeight == \"WH\": g = sns.clustermap(wh, cmap=\"RdBu_r\", vmin=-2, vmax=2, figsize=(6+HIDDEN_SIZE/6, 6+HIDDEN_SIZE/6))\n",
        "    if NameWeight == \"RI\": g = sns.clustermap(ri, cmap=\"RdBu_r\", vmin=-5, vmax=5, figsize=(6+HIDDEN_SIZE/6, 6+HIDDEN_SIZE/6), col_cluster=False)\n",
        "    plt.title(\"H{}-{}-{}\".format(HIDDEN_SIZE, iter, NameWeight))\n",
        "    fname = \"H{}-{}-{}.png\".format(HIDDEN_SIZE, iter, NameWeight)\n",
        "    #g.savefig(fname)\n",
        "    #files.download(fname)"
      ],
      "execution_count": null,
      "outputs": [
        {
          "output_type": "display_data",
          "data": {
            "image/png": "[encoded data removed]",
            "text/plain": [
              "<Figure size 748.8x576 with 4 Axes>"
            ]
          },
          "metadata": {
            "tags": [],
            "needs_background": "light"
          }
        },
        {
          "output_type": "display_data",
          "data": {
            "image/png": "[encoded data removed]",
            "text/plain": [
              "<Figure size 576x576 with 4 Axes>"
            ]
          },
          "metadata": {
            "tags": [],
            "needs_background": "light"
          }
        },
        {
          "output_type": "display_data",
          "data": {
            "image/png": "[encoded data removed]",
            "text/plain": [
              "<Figure size 576x576 with 4 Axes>"
            ]
          },
          "metadata": {
            "tags": [],
            "needs_background": "light"
          }
        }
      ]
    },
    {
      "cell_type": "code",
      "metadata": {
        "id": "porkK3cD_amN",
        "colab_type": "code",
        "colab": {
          "base_uri": "https://localhost:8080/",
          "height": 1000
        },
        "outputId": "4b07895c-cad4-4ea9-972e-08a346391501"
      },
      "source": [
        "M = [\"single\", \"complete\", \"weighted\"]\n",
        "D = [\"correlation\", \"euclidean\", \"sqeuclidean\", \"cosine\", \"hamming\", \"chebyshev\", \"jaccard\", \"canberra\", ]\n",
        "for method in M:\n",
        "    for distance in D:\n",
        "        print(method, distance)\n",
        "        g = sns.clustermap(ri, cmap=\"RdBu_r\", \n",
        "                        vmin=-3, vmax=3, \n",
        "                        figsize=(4,4), \n",
        "                        col_cluster=False, \n",
        "                        method = method, metric=distance,\n",
        "                        )\n",
        "        plt.show()"
      ],
      "execution_count": null,
      "outputs": [
        {
          "output_type": "stream",
          "text": [
            "single correlation\n"
          ],
          "name": "stdout"
        },
        {
          "output_type": "display_data",
          "data": {
            "image/png": "[encoded data removed]",
            "text/plain": [
              "<Figure size 288x288 with 4 Axes>"
            ]
          },
          "metadata": {
            "tags": [],
            "needs_background": "light"
          }
        },
        {
          "output_type": "stream",
          "text": [
            "single euclidean\n"
          ],
          "name": "stdout"
        },
        {
          "output_type": "display_data",
          "data": {
            "image/png": "[encoded data removed]",
            "text/plain": [
              "<Figure size 288x288 with 4 Axes>"
            ]
          },
          "metadata": {
            "tags": [],
            "needs_background": "light"
          }
        },
        {
          "output_type": "stream",
          "text": [
            "single sqeuclidean\n"
          ],
          "name": "stdout"
        },
        {
          "output_type": "display_data",
          "data": {
            "image/png": "[encoded data removed]",
            "text/plain": [
              "<Figure size 288x288 with 4 Axes>"
            ]
          },
          "metadata": {
            "tags": [],
            "needs_background": "light"
          }
        },
        {
          "output_type": "stream",
          "text": [
            "single cosine\n"
          ],
          "name": "stdout"
        },
        {
          "output_type": "display_data",
          "data": {
            "image/png": "[encoded data removed]",
            "text/plain": [
              "<Figure size 288x288 with 4 Axes>"
            ]
          },
          "metadata": {
            "tags": [],
            "needs_background": "light"
          }
        },
        {
          "output_type": "stream",
          "text": [
            "single hamming\n"
          ],
          "name": "stdout"
        },
        {
          "output_type": "display_data",
          "data": {
            "image/png": "[encoded data removed]",
            "text/plain": [
              "<Figure size 288x288 with 4 Axes>"
            ]
          },
          "metadata": {
            "tags": [],
            "needs_background": "light"
          }
        },
        {
          "output_type": "stream",
          "text": [
            "single chebyshev\n"
          ],
          "name": "stdout"
        },
        {
          "output_type": "display_data",
          "data": {
            "image/png": "[encoded data removed]",
            "text/plain": [
              "<Figure size 288x288 with 4 Axes>"
            ]
          },
          "metadata": {
            "tags": [],
            "needs_background": "light"
          }
        },
        {
          "output_type": "stream",
          "text": [
            "single jaccard\n"
          ],
          "name": "stdout"
        },
        {
          "output_type": "display_data",
          "data": {
            "image/png": "[encoded data removed]",
            "text/plain": [
              "<Figure size 288x288 with 4 Axes>"
            ]
          },
          "metadata": {
            "tags": [],
            "needs_background": "light"
          }
        },
        {
          "output_type": "stream",
          "text": [
            "single canberra\n"
          ],
          "name": "stdout"
        },
        {
          "output_type": "display_data",
          "data": {
            "image/png": "[encoded data removed]",
            "text/plain": [
              "<Figure size 288x288 with 4 Axes>"
            ]
          },
          "metadata": {
            "tags": [],
            "needs_background": "light"
          }
        },
        {
          "output_type": "stream",
          "text": [
            "complete correlation\n"
          ],
          "name": "stdout"
        },
        {
          "output_type": "display_data",
          "data": {
            "image/png": "[encoded data removed]",
            "text/plain": [
              "<Figure size 288x288 with 4 Axes>"
            ]
          },
          "metadata": {
            "tags": [],
            "needs_background": "light"
          }
        },
        {
          "output_type": "stream",
          "text": [
            "complete euclidean\n"
          ],
          "name": "stdout"
        },
        {
          "output_type": "display_data",
          "data": {
            "image/png": "[encoded data removed]",
            "text/plain": [
              "<Figure size 288x288 with 4 Axes>"
            ]
          },
          "metadata": {
            "tags": [],
            "needs_background": "light"
          }
        },
        {
          "output_type": "stream",
          "text": [
            "complete sqeuclidean\n"
          ],
          "name": "stdout"
        },
        {
          "output_type": "display_data",
          "data": {
            "image/png": "[encoded data removed]",
            "text/plain": [
              "<Figure size 288x288 with 4 Axes>"
            ]
          },
          "metadata": {
            "tags": [],
            "needs_background": "light"
          }
        },
        {
          "output_type": "stream",
          "text": [
            "complete cosine\n"
          ],
          "name": "stdout"
        },
        {
          "output_type": "display_data",
          "data": {
            "image/png": "[encoded data removed]",
            "text/plain": [
              "<Figure size 288x288 with 4 Axes>"
            ]
          },
          "metadata": {
            "tags": [],
            "needs_background": "light"
          }
        },
        {
          "output_type": "stream",
          "text": [
            "complete hamming\n"
          ],
          "name": "stdout"
        },
        {
          "output_type": "display_data",
          "data": {
            "image/png": "[encoded data removed]",
            "text/plain": [
              "<Figure size 288x288 with 4 Axes>"
            ]
          },
          "metadata": {
            "tags": [],
            "needs_background": "light"
          }
        },
        {
          "output_type": "stream",
          "text": [
            "complete chebyshev\n"
          ],
          "name": "stdout"
        },
        {
          "output_type": "display_data",
          "data": {
            "image/png": "[encoded data removed]",
            "text/plain": [
              "<Figure size 288x288 with 4 Axes>"
            ]
          },
          "metadata": {
            "tags": [],
            "needs_background": "light"
          }
        },
        {
          "output_type": "stream",
          "text": [
            "complete jaccard\n"
          ],
          "name": "stdout"
        },
        {
          "output_type": "display_data",
          "data": {
            "image/png": "[encoded data removed]",
            "text/plain": [
              "<Figure size 288x288 with 4 Axes>"
            ]
          },
          "metadata": {
            "tags": [],
            "needs_background": "light"
          }
        },
        {
          "output_type": "stream",
          "text": [
            "complete canberra\n"
          ],
          "name": "stdout"
        },
        {
          "output_type": "display_data",
          "data": {
            "image/png": "[encoded data removed]",
            "text/plain": [
              "<Figure size 288x288 with 4 Axes>"
            ]
          },
          "metadata": {
            "tags": [],
            "needs_background": "light"
          }
        },
        {
          "output_type": "stream",
          "text": [
            "weighted correlation\n"
          ],
          "name": "stdout"
        },
        {
          "output_type": "display_data",
          "data": {
            "image/png": "[encoded data removed]",
            "text/plain": [
              "<Figure size 288x288 with 4 Axes>"
            ]
          },
          "metadata": {
            "tags": [],
            "needs_background": "light"
          }
        },
        {
          "output_type": "stream",
          "text": [
            "weighted euclidean\n"
          ],
          "name": "stdout"
        },
        {
          "output_type": "display_data",
          "data": {
            "image/png": "[encoded data removed]",
            "text/plain": [
              "<Figure size 288x288 with 4 Axes>"
            ]
          },
          "metadata": {
            "tags": [],
            "needs_background": "light"
          }
        },
        {
          "output_type": "stream",
          "text": [
            "weighted sqeuclidean\n"
          ],
          "name": "stdout"
        },
        {
          "output_type": "display_data",
          "data": {
            "image/png": "[encoded data removed]",
            "text/plain": [
              "<Figure size 288x288 with 4 Axes>"
            ]
          },
          "metadata": {
            "tags": [],
            "needs_background": "light"
          }
        },
        {
          "output_type": "stream",
          "text": [
            "weighted cosine\n"
          ],
          "name": "stdout"
        },
        {
          "output_type": "display_data",
          "data": {
            "image/png": "[encoded data removed]",
            "text/plain": [
              "<Figure size 288x288 with 4 Axes>"
            ]
          },
          "metadata": {
            "tags": [],
            "needs_background": "light"
          }
        },
        {
          "output_type": "stream",
          "text": [
            "weighted hamming\n"
          ],
          "name": "stdout"
        },
        {
          "output_type": "display_data",
          "data": {
            "image/png": "[encoded data removed]",
            "text/plain": [
              "<Figure size 288x288 with 4 Axes>"
            ]
          },
          "metadata": {
            "tags": [],
            "needs_background": "light"
          }
        },
        {
          "output_type": "stream",
          "text": [
            "weighted chebyshev\n"
          ],
          "name": "stdout"
        },
        {
          "output_type": "display_data",
          "data": {
            "image/png": "[encoded data removed]",
            "text/plain": [
              "<Figure size 288x288 with 4 Axes>"
            ]
          },
          "metadata": {
            "tags": [],
            "needs_background": "light"
          }
        },
        {
          "output_type": "stream",
          "text": [
            "weighted jaccard\n"
          ],
          "name": "stdout"
        },
        {
          "output_type": "display_data",
          "data": {
            "image/png": "[encoded data removed]",
            "text/plain": [
              "<Figure size 288x288 with 4 Axes>"
            ]
          },
          "metadata": {
            "tags": [],
            "needs_background": "light"
          }
        },
        {
          "output_type": "stream",
          "text": [
            "weighted canberra\n"
          ],
          "name": "stdout"
        },
        {
          "output_type": "display_data",
          "data": {
            "image/png": "[encoded data removed]",
            "text/plain": [
              "<Figure size 288x288 with 4 Axes>"
            ]
          },
          "metadata": {
            "tags": [],
            "needs_background": "light"
          }
        }
      ]
    },
    {
      "cell_type": "code",
      "metadata": {
        "id": "fz789UgZ9hZI",
        "colab_type": "code",
        "colab": {}
      },
      "source": [
        ""
      ],
      "execution_count": null,
      "outputs": []
    }
  ]
}